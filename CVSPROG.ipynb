{
  "nbformat": 4,
  "nbformat_minor": 0,
  "metadata": {
    "colab": {
      "name": "CVSPROG.ipynb",
      "provenance": [],
      "collapsed_sections": [],
      "authorship_tag": "ABX9TyMOcCQ/0n+yBtae2F0nppNI",
      "include_colab_link": true
    },
    "kernelspec": {
      "name": "python3",
      "display_name": "Python 3"
    }
  },
  "cells": [
    {
      "cell_type": "markdown",
      "metadata": {
        "id": "view-in-github",
        "colab_type": "text"
      },
      "source": [
        "<a href=\"https://colab.research.google.com/github/ENESBERKEINAL/GoogleColabCVS_PYTHON/blob/main/CVSPROG.ipynb\" target=\"_parent\"><img src=\"https://colab.research.google.com/assets/colab-badge.svg\" alt=\"Open In Colab\"/></a>"
      ]
    },
    {
      "cell_type": "code",
      "metadata": {
        "id": "KRErbshEE-Xs"
      },
      "source": [
        "import openpyxl"
      ],
      "execution_count": 1,
      "outputs": []
    },
    {
      "cell_type": "code",
      "metadata": {
        "colab": {
          "base_uri": "https://localhost:8080/"
        },
        "id": "9B0D0MZwGWkn",
        "outputId": "13d67f5b-7bde-4ab9-bf43-4541a37dfdec"
      },
      "source": [
        "from google.colab import drive\n",
        "drive.mount('/gdrive')"
      ],
      "execution_count": 2,
      "outputs": [
        {
          "output_type": "stream",
          "text": [
            "Mounted at /gdrive\n"
          ],
          "name": "stdout"
        }
      ]
    },
    {
      "cell_type": "code",
      "metadata": {
        "colab": {
          "base_uri": "https://localhost:8080/"
        },
        "id": "ti9fjIB0Gmje",
        "outputId": "509a1cce-490f-48aa-b87e-e328617d2ed4"
      },
      "source": [
        "from random import random\n",
        "import csv\n",
        "with open('/gdrive/MyDrive/sublist.csv') as csv_file:\n",
        "    csv_reader = csv.reader(csv_file, delimiter=',')\n",
        "    line_count = 0\n",
        "    for row in csv_reader:\n",
        "        if line_count == 0:\n",
        "            print(f'Column names are {\", \".join(row)}')\n",
        "            line_count += 1\n",
        "        else:\n",
        "            print(\"\\n\")\n",
        "            for k in range(0,7):\n",
        "              print(row[k], end=\" \")\n",
        "            line_count += 1\n",
        "    \n",
        "    print(f'\\n Processed {line_count} lines.')"
      ],
      "execution_count": 3,
      "outputs": [
        {
          "output_type": "stream",
          "text": [
            "Column names are Username, Subscribe Date, Current Tier, Tenure, Streak, Sub Type, Founder\n",
            "\n",
            "\n",
            "smellnes 2019-07-16T13:09:24Z Tier 3 17 17 recurring false \n",
            "\n",
            "hroogeiirr 2020-11-19T16:45:13Z Tier 1 2 1 prime true \n",
            "\n",
            "afsdasgsfcgdvsvanydjjajcu 2020-11-21T11:06:14Z Tier 1 6 4 prime true \n",
            "\n",
            "bandebi 2020-11-17T20:22:14Z Tier 1 3 3 prime true \n",
            " Processed 5 lines.\n"
          ],
          "name": "stdout"
        }
      ]
    },
    {
      "cell_type": "code",
      "metadata": {
        "colab": {
          "base_uri": "https://localhost:8080/"
        },
        "id": "b_irpQTAL0S9",
        "outputId": "16cda1fb-d8f6-412e-f005-473f01cbdb31"
      },
      "source": [
        "import pandas as pd\n",
        "df = pd.read_csv('/gdrive/MyDrive/sublist.csv', index_col='Username')\n",
        "print(df)"
      ],
      "execution_count": 4,
      "outputs": [
        {
          "output_type": "stream",
          "text": [
            "                                 Subscribe Date  ... Founder\n",
            "Username                                         ...        \n",
            "smellnes                   2019-07-16T13:09:24Z  ...   False\n",
            "hroogeiirr                 2020-11-19T16:45:13Z  ...    True\n",
            "afsdasgsfcgdvsvanydjjajcu  2020-11-21T11:06:14Z  ...    True\n",
            "bandebi                    2020-11-17T20:22:14Z  ...    True\n",
            "\n",
            "[4 rows x 6 columns]\n"
          ],
          "name": "stdout"
        }
      ]
    },
    {
      "cell_type": "code",
      "metadata": {
        "colab": {
          "base_uri": "https://localhost:8080/",
          "height": 111
        },
        "id": "T5JiaSk0M-Xz",
        "outputId": "a60fd586-affc-4b21-8c38-dde34a38077d"
      },
      "source": [
        "df.sample()\n",
        "#Tenure abone süresi kaç aylık olduğu"
      ],
      "execution_count": 5,
      "outputs": [
        {
          "output_type": "execute_result",
          "data": {
            "text/html": [
              "<div>\n",
              "<style scoped>\n",
              "    .dataframe tbody tr th:only-of-type {\n",
              "        vertical-align: middle;\n",
              "    }\n",
              "\n",
              "    .dataframe tbody tr th {\n",
              "        vertical-align: top;\n",
              "    }\n",
              "\n",
              "    .dataframe thead th {\n",
              "        text-align: right;\n",
              "    }\n",
              "</style>\n",
              "<table border=\"1\" class=\"dataframe\">\n",
              "  <thead>\n",
              "    <tr style=\"text-align: right;\">\n",
              "      <th></th>\n",
              "      <th>Subscribe Date</th>\n",
              "      <th>Current Tier</th>\n",
              "      <th>Tenure</th>\n",
              "      <th>Streak</th>\n",
              "      <th>Sub Type</th>\n",
              "      <th>Founder</th>\n",
              "    </tr>\n",
              "    <tr>\n",
              "      <th>Username</th>\n",
              "      <th></th>\n",
              "      <th></th>\n",
              "      <th></th>\n",
              "      <th></th>\n",
              "      <th></th>\n",
              "      <th></th>\n",
              "    </tr>\n",
              "  </thead>\n",
              "  <tbody>\n",
              "    <tr>\n",
              "      <th>smellnes</th>\n",
              "      <td>2019-07-16T13:09:24Z</td>\n",
              "      <td>Tier 3</td>\n",
              "      <td>17</td>\n",
              "      <td>17</td>\n",
              "      <td>recurring</td>\n",
              "      <td>False</td>\n",
              "    </tr>\n",
              "  </tbody>\n",
              "</table>\n",
              "</div>"
            ],
            "text/plain": [
              "                Subscribe Date Current Tier  Tenure  Streak   Sub Type  Founder\n",
              "Username                                                                       \n",
              "smellnes  2019-07-16T13:09:24Z       Tier 3      17      17  recurring    False"
            ]
          },
          "metadata": {
            "tags": []
          },
          "execution_count": 5
        }
      ]
    },
    {
      "cell_type": "markdown",
      "metadata": {
        "id": "AQKx0fEoRMBB"
      },
      "source": [
        "df = pd.read_excel('/gdrive/MyDrive/sublist.csv') # can also index sheet by name or fetch all sheets\n",
        "mylist = df['column name'].tolist()"
      ]
    },
    {
      "cell_type": "code",
      "metadata": {
        "colab": {
          "base_uri": "https://localhost:8080/",
          "height": 204
        },
        "id": "W5pWyW623pIm",
        "outputId": "b2625682-33e1-4a21-cf4e-b951c42fe5c0"
      },
      "source": [
        "df['Tenure']\r\n",
        "df[ df.iloc[:,2]>= 2 ]"
      ],
      "execution_count": 6,
      "outputs": [
        {
          "output_type": "execute_result",
          "data": {
            "text/html": [
              "<div>\n",
              "<style scoped>\n",
              "    .dataframe tbody tr th:only-of-type {\n",
              "        vertical-align: middle;\n",
              "    }\n",
              "\n",
              "    .dataframe tbody tr th {\n",
              "        vertical-align: top;\n",
              "    }\n",
              "\n",
              "    .dataframe thead th {\n",
              "        text-align: right;\n",
              "    }\n",
              "</style>\n",
              "<table border=\"1\" class=\"dataframe\">\n",
              "  <thead>\n",
              "    <tr style=\"text-align: right;\">\n",
              "      <th></th>\n",
              "      <th>Subscribe Date</th>\n",
              "      <th>Current Tier</th>\n",
              "      <th>Tenure</th>\n",
              "      <th>Streak</th>\n",
              "      <th>Sub Type</th>\n",
              "      <th>Founder</th>\n",
              "    </tr>\n",
              "    <tr>\n",
              "      <th>Username</th>\n",
              "      <th></th>\n",
              "      <th></th>\n",
              "      <th></th>\n",
              "      <th></th>\n",
              "      <th></th>\n",
              "      <th></th>\n",
              "    </tr>\n",
              "  </thead>\n",
              "  <tbody>\n",
              "    <tr>\n",
              "      <th>smellnes</th>\n",
              "      <td>2019-07-16T13:09:24Z</td>\n",
              "      <td>Tier 3</td>\n",
              "      <td>17</td>\n",
              "      <td>17</td>\n",
              "      <td>recurring</td>\n",
              "      <td>False</td>\n",
              "    </tr>\n",
              "    <tr>\n",
              "      <th>hroogeiirr</th>\n",
              "      <td>2020-11-19T16:45:13Z</td>\n",
              "      <td>Tier 1</td>\n",
              "      <td>2</td>\n",
              "      <td>1</td>\n",
              "      <td>prime</td>\n",
              "      <td>True</td>\n",
              "    </tr>\n",
              "    <tr>\n",
              "      <th>afsdasgsfcgdvsvanydjjajcu</th>\n",
              "      <td>2020-11-21T11:06:14Z</td>\n",
              "      <td>Tier 1</td>\n",
              "      <td>6</td>\n",
              "      <td>4</td>\n",
              "      <td>prime</td>\n",
              "      <td>True</td>\n",
              "    </tr>\n",
              "    <tr>\n",
              "      <th>bandebi</th>\n",
              "      <td>2020-11-17T20:22:14Z</td>\n",
              "      <td>Tier 1</td>\n",
              "      <td>3</td>\n",
              "      <td>3</td>\n",
              "      <td>prime</td>\n",
              "      <td>True</td>\n",
              "    </tr>\n",
              "  </tbody>\n",
              "</table>\n",
              "</div>"
            ],
            "text/plain": [
              "                                 Subscribe Date  ... Founder\n",
              "Username                                         ...        \n",
              "smellnes                   2019-07-16T13:09:24Z  ...   False\n",
              "hroogeiirr                 2020-11-19T16:45:13Z  ...    True\n",
              "afsdasgsfcgdvsvanydjjajcu  2020-11-21T11:06:14Z  ...    True\n",
              "bandebi                    2020-11-17T20:22:14Z  ...    True\n",
              "\n",
              "[4 rows x 6 columns]"
            ]
          },
          "metadata": {
            "tags": []
          },
          "execution_count": 6
        }
      ]
    },
    {
      "cell_type": "code",
      "metadata": {
        "colab": {
          "base_uri": "https://localhost:8080/"
        },
        "id": "L0FYktfAAv0B",
        "outputId": "2422e533-5100-4687-875d-dc15b04e0a37"
      },
      "source": [
        "df.columns"
      ],
      "execution_count": 7,
      "outputs": [
        {
          "output_type": "execute_result",
          "data": {
            "text/plain": [
              "Index(['Subscribe Date', 'Current Tier', 'Tenure', 'Streak', 'Sub Type',\n",
              "       'Founder'],\n",
              "      dtype='object')"
            ]
          },
          "metadata": {
            "tags": []
          },
          "execution_count": 7
        }
      ]
    },
    {
      "cell_type": "code",
      "metadata": {
        "id": "Udz9nopEBaaG"
      },
      "source": [
        "df = df.rename(columns={'Current Tier': 'Current_Tier'})"
      ],
      "execution_count": 8,
      "outputs": []
    },
    {
      "cell_type": "code",
      "metadata": {
        "id": "eDRWFACN_Y-0"
      },
      "source": [
        "dk=df.loc[(df.Tenure>=3)]"
      ],
      "execution_count": 9,
      "outputs": []
    },
    {
      "cell_type": "code",
      "metadata": {
        "id": "lkHRwsMADlq-"
      },
      "source": [
        "def treemoresubs():\r\n",
        "  global d3more\r\n",
        "  d3more=df.loc[(df.Tenure>=3)]\r\n",
        "  return d3more.sample()"
      ],
      "execution_count": 22,
      "outputs": []
    },
    {
      "cell_type": "code",
      "metadata": {
        "colab": {
          "base_uri": "https://localhost:8080/",
          "height": 111
        },
        "id": "Ptdy-yh6EQAU",
        "outputId": "d48ed366-6995-432d-d3f4-111f59db2f3c"
      },
      "source": [
        "treemoresubs()"
      ],
      "execution_count": 25,
      "outputs": [
        {
          "output_type": "execute_result",
          "data": {
            "text/html": [
              "<div>\n",
              "<style scoped>\n",
              "    .dataframe tbody tr th:only-of-type {\n",
              "        vertical-align: middle;\n",
              "    }\n",
              "\n",
              "    .dataframe tbody tr th {\n",
              "        vertical-align: top;\n",
              "    }\n",
              "\n",
              "    .dataframe thead th {\n",
              "        text-align: right;\n",
              "    }\n",
              "</style>\n",
              "<table border=\"1\" class=\"dataframe\">\n",
              "  <thead>\n",
              "    <tr style=\"text-align: right;\">\n",
              "      <th></th>\n",
              "      <th>Subscribe Date</th>\n",
              "      <th>Current_Tier</th>\n",
              "      <th>Tenure</th>\n",
              "      <th>Streak</th>\n",
              "      <th>Sub Type</th>\n",
              "      <th>Founder</th>\n",
              "    </tr>\n",
              "    <tr>\n",
              "      <th>Username</th>\n",
              "      <th></th>\n",
              "      <th></th>\n",
              "      <th></th>\n",
              "      <th></th>\n",
              "      <th></th>\n",
              "      <th></th>\n",
              "    </tr>\n",
              "  </thead>\n",
              "  <tbody>\n",
              "    <tr>\n",
              "      <th>afsdasgsfcgdvsvanydjjajcu</th>\n",
              "      <td>2020-11-21T11:06:14Z</td>\n",
              "      <td>Tier 1</td>\n",
              "      <td>6</td>\n",
              "      <td>4</td>\n",
              "      <td>prime</td>\n",
              "      <td>True</td>\n",
              "    </tr>\n",
              "  </tbody>\n",
              "</table>\n",
              "</div>"
            ],
            "text/plain": [
              "                                 Subscribe Date Current_Tier  ...  Sub Type  Founder\n",
              "Username                                                      ...                   \n",
              "afsdasgsfcgdvsvanydjjajcu  2020-11-21T11:06:14Z       Tier 1  ...     prime     True\n",
              "\n",
              "[1 rows x 6 columns]"
            ]
          },
          "metadata": {
            "tags": []
          },
          "execution_count": 25
        }
      ]
    },
    {
      "cell_type": "code",
      "metadata": {
        "id": "7NhJgVo-Edp-"
      },
      "source": [
        "def sixmoresubs():\r\n",
        "  global d6more\r\n",
        "  d6more=df.loc[(df.Tenure>=6)]\r\n",
        "  return d6more.sample()"
      ],
      "execution_count": 26,
      "outputs": []
    },
    {
      "cell_type": "code",
      "metadata": {
        "colab": {
          "base_uri": "https://localhost:8080/",
          "height": 111
        },
        "id": "MkzvpRXdEy0l",
        "outputId": "0497f3ec-890a-4fbf-8e6c-113e24bd3c79"
      },
      "source": [
        "sixmoresubs()"
      ],
      "execution_count": 33,
      "outputs": [
        {
          "output_type": "execute_result",
          "data": {
            "text/html": [
              "<div>\n",
              "<style scoped>\n",
              "    .dataframe tbody tr th:only-of-type {\n",
              "        vertical-align: middle;\n",
              "    }\n",
              "\n",
              "    .dataframe tbody tr th {\n",
              "        vertical-align: top;\n",
              "    }\n",
              "\n",
              "    .dataframe thead th {\n",
              "        text-align: right;\n",
              "    }\n",
              "</style>\n",
              "<table border=\"1\" class=\"dataframe\">\n",
              "  <thead>\n",
              "    <tr style=\"text-align: right;\">\n",
              "      <th></th>\n",
              "      <th>Subscribe Date</th>\n",
              "      <th>Current_Tier</th>\n",
              "      <th>Tenure</th>\n",
              "      <th>Streak</th>\n",
              "      <th>Sub Type</th>\n",
              "      <th>Founder</th>\n",
              "    </tr>\n",
              "    <tr>\n",
              "      <th>Username</th>\n",
              "      <th></th>\n",
              "      <th></th>\n",
              "      <th></th>\n",
              "      <th></th>\n",
              "      <th></th>\n",
              "      <th></th>\n",
              "    </tr>\n",
              "  </thead>\n",
              "  <tbody>\n",
              "    <tr>\n",
              "      <th>afsdasgsfcgdvsvanydjjajcu</th>\n",
              "      <td>2020-11-21T11:06:14Z</td>\n",
              "      <td>Tier 1</td>\n",
              "      <td>6</td>\n",
              "      <td>4</td>\n",
              "      <td>prime</td>\n",
              "      <td>True</td>\n",
              "    </tr>\n",
              "  </tbody>\n",
              "</table>\n",
              "</div>"
            ],
            "text/plain": [
              "                                 Subscribe Date Current_Tier  ...  Sub Type  Founder\n",
              "Username                                                      ...                   \n",
              "afsdasgsfcgdvsvanydjjajcu  2020-11-21T11:06:14Z       Tier 1  ...     prime     True\n",
              "\n",
              "[1 rows x 6 columns]"
            ]
          },
          "metadata": {
            "tags": []
          },
          "execution_count": 33
        }
      ]
    },
    {
      "cell_type": "code",
      "metadata": {
        "id": "ScB-ISjJE4iU"
      },
      "source": [
        "def twmoresubs():\r\n",
        "  global d12more\r\n",
        "  d12more=df.loc[(df.Tenure>=12)]\r\n",
        "  return d12more.sample()"
      ],
      "execution_count": 34,
      "outputs": []
    },
    {
      "cell_type": "code",
      "metadata": {
        "colab": {
          "base_uri": "https://localhost:8080/",
          "height": 111
        },
        "id": "bjv0ImMXFBGb",
        "outputId": "499da80d-0388-4b92-daf3-10fa02a4dda5"
      },
      "source": [
        "twmoresubs()"
      ],
      "execution_count": 37,
      "outputs": [
        {
          "output_type": "execute_result",
          "data": {
            "text/html": [
              "<div>\n",
              "<style scoped>\n",
              "    .dataframe tbody tr th:only-of-type {\n",
              "        vertical-align: middle;\n",
              "    }\n",
              "\n",
              "    .dataframe tbody tr th {\n",
              "        vertical-align: top;\n",
              "    }\n",
              "\n",
              "    .dataframe thead th {\n",
              "        text-align: right;\n",
              "    }\n",
              "</style>\n",
              "<table border=\"1\" class=\"dataframe\">\n",
              "  <thead>\n",
              "    <tr style=\"text-align: right;\">\n",
              "      <th></th>\n",
              "      <th>Subscribe Date</th>\n",
              "      <th>Current_Tier</th>\n",
              "      <th>Tenure</th>\n",
              "      <th>Streak</th>\n",
              "      <th>Sub Type</th>\n",
              "      <th>Founder</th>\n",
              "    </tr>\n",
              "    <tr>\n",
              "      <th>Username</th>\n",
              "      <th></th>\n",
              "      <th></th>\n",
              "      <th></th>\n",
              "      <th></th>\n",
              "      <th></th>\n",
              "      <th></th>\n",
              "    </tr>\n",
              "  </thead>\n",
              "  <tbody>\n",
              "    <tr>\n",
              "      <th>smellnes</th>\n",
              "      <td>2019-07-16T13:09:24Z</td>\n",
              "      <td>Tier 3</td>\n",
              "      <td>17</td>\n",
              "      <td>17</td>\n",
              "      <td>recurring</td>\n",
              "      <td>False</td>\n",
              "    </tr>\n",
              "  </tbody>\n",
              "</table>\n",
              "</div>"
            ],
            "text/plain": [
              "                Subscribe Date Current_Tier  Tenure  Streak   Sub Type  Founder\n",
              "Username                                                                       \n",
              "smellnes  2019-07-16T13:09:24Z       Tier 3      17      17  recurring    False"
            ]
          },
          "metadata": {
            "tags": []
          },
          "execution_count": 37
        }
      ]
    },
    {
      "cell_type": "code",
      "metadata": {
        "id": "wAoT9ZyXFE-u"
      },
      "source": [
        "def twfourmoresubs():\r\n",
        "  try:\r\n",
        "    global d24more\r\n",
        "    d24more=df.loc[(df.Tenure>=24)]\r\n",
        "    return d24more.sample()\r\n",
        "  except:\r\n",
        "    print(\"Error\")\r\n",
        "    raise"
      ],
      "execution_count": 46,
      "outputs": []
    },
    {
      "cell_type": "code",
      "metadata": {
        "id": "laZCuh0qFPN4"
      },
      "source": [
        "#twfourmoresubs()"
      ],
      "execution_count": 49,
      "outputs": []
    },
    {
      "cell_type": "code",
      "metadata": {
        "colab": {
          "base_uri": "https://localhost:8080/"
        },
        "id": "YZxftLq2SqLI",
        "outputId": "0760bbbf-0acc-4057-e0b8-11392b37d5f7"
      },
      "source": [
        "from csv import reader\n",
        "# read csv file as a list of lists\n",
        "with open('/gdrive/MyDrive/sublist.csv', 'r') as read_obj:\n",
        "    # pass the file object to reader() to get the reader object\n",
        "    csv_reader = reader(read_obj)\n",
        "    # Pass reader object to list() to get a list of lists\n",
        "    list_of_rows = list(csv_reader)\n",
        "    print(list_of_rows)"
      ],
      "execution_count": 10,
      "outputs": [
        {
          "output_type": "stream",
          "text": [
            "[['Username', 'Subscribe Date', 'Current Tier', 'Tenure', 'Streak', 'Sub Type', 'Founder'], ['smellnes', '2019-07-16T13:09:24Z', 'Tier 3', '17', '17', 'recurring', 'false'], ['hroogeiirr', '2020-11-19T16:45:13Z', 'Tier 1', '2', '1', 'prime', 'true'], ['afsdasgsfcgdvsvanydjjajcu', '2020-11-21T11:06:14Z', 'Tier 1', '6', '4', 'prime', 'true'], ['bandebi', '2020-11-17T20:22:14Z', 'Tier 1', '3', '3', 'prime', 'true']]\n"
          ],
          "name": "stdout"
        }
      ]
    },
    {
      "cell_type": "code",
      "metadata": {
        "colab": {
          "base_uri": "https://localhost:8080/",
          "height": 111
        },
        "id": "-ZJ9AxT6CR2i",
        "outputId": "dba2da88-fdc7-4fdb-eb5f-c73fc0669d22"
      },
      "source": [
        "dk.sample()"
      ],
      "execution_count": 11,
      "outputs": [
        {
          "output_type": "execute_result",
          "data": {
            "text/html": [
              "<div>\n",
              "<style scoped>\n",
              "    .dataframe tbody tr th:only-of-type {\n",
              "        vertical-align: middle;\n",
              "    }\n",
              "\n",
              "    .dataframe tbody tr th {\n",
              "        vertical-align: top;\n",
              "    }\n",
              "\n",
              "    .dataframe thead th {\n",
              "        text-align: right;\n",
              "    }\n",
              "</style>\n",
              "<table border=\"1\" class=\"dataframe\">\n",
              "  <thead>\n",
              "    <tr style=\"text-align: right;\">\n",
              "      <th></th>\n",
              "      <th>Subscribe Date</th>\n",
              "      <th>Current_Tier</th>\n",
              "      <th>Tenure</th>\n",
              "      <th>Streak</th>\n",
              "      <th>Sub Type</th>\n",
              "      <th>Founder</th>\n",
              "    </tr>\n",
              "    <tr>\n",
              "      <th>Username</th>\n",
              "      <th></th>\n",
              "      <th></th>\n",
              "      <th></th>\n",
              "      <th></th>\n",
              "      <th></th>\n",
              "      <th></th>\n",
              "    </tr>\n",
              "  </thead>\n",
              "  <tbody>\n",
              "    <tr>\n",
              "      <th>bandebi</th>\n",
              "      <td>2020-11-17T20:22:14Z</td>\n",
              "      <td>Tier 1</td>\n",
              "      <td>3</td>\n",
              "      <td>3</td>\n",
              "      <td>prime</td>\n",
              "      <td>True</td>\n",
              "    </tr>\n",
              "  </tbody>\n",
              "</table>\n",
              "</div>"
            ],
            "text/plain": [
              "                Subscribe Date Current_Tier  Tenure  Streak Sub Type  Founder\n",
              "Username                                                                     \n",
              "bandebi   2020-11-17T20:22:14Z       Tier 1       3       3    prime     True"
            ]
          },
          "metadata": {
            "tags": []
          },
          "execution_count": 11
        }
      ]
    },
    {
      "cell_type": "code",
      "metadata": {
        "colab": {
          "base_uri": "https://localhost:8080/"
        },
        "id": "rtfhOUVaRoQ6",
        "outputId": "3491933f-e1ae-4041-b988-45ec05379cfc"
      },
      "source": [
        "\n",
        "from pandas import DataFrame \n",
        "  \n",
        "\n",
        "  \n",
        "#df = DataFrame('/gdrive/MyDrive/sublist.csv', columns = ['Username', 'Tenure']) \n",
        "  \n",
        "\n",
        "print(\"Original data frame:\\n\") \n",
        "print(df) \n",
        "  \n",
        "# Selecting the product of Price greater  \n",
        "# than or equal to 25000 \n",
        "select_prod = df.loc[df['Tenure'] >= 1] \n",
        "  \n",
        "print(\"\\n\") \n",
        "  \n",
        "# Print selected rows based on the condition \n",
        "print(\"Selecting rows:\\n\") \n",
        "print (select_prod) "
      ],
      "execution_count": 48,
      "outputs": [
        {
          "output_type": "stream",
          "text": [
            "Original data frame:\n",
            "\n",
            "                                 Subscribe Date  ... Founder\n",
            "Username                                         ...        \n",
            "smellnes                   2019-07-16T13:09:24Z  ...   False\n",
            "hroogeiirr                 2020-11-19T16:45:13Z  ...    True\n",
            "afsdasgsfcgdvsvanydjjajcu  2020-11-21T11:06:14Z  ...    True\n",
            "bandebi                    2020-11-17T20:22:14Z  ...    True\n",
            "\n",
            "[4 rows x 6 columns]\n",
            "\n",
            "\n",
            "Selecting rows:\n",
            "\n",
            "                                 Subscribe Date  ... Founder\n",
            "Username                                         ...        \n",
            "smellnes                   2019-07-16T13:09:24Z  ...   False\n",
            "hroogeiirr                 2020-11-19T16:45:13Z  ...    True\n",
            "afsdasgsfcgdvsvanydjjajcu  2020-11-21T11:06:14Z  ...    True\n",
            "bandebi                    2020-11-17T20:22:14Z  ...    True\n",
            "\n",
            "[4 rows x 6 columns]\n"
          ],
          "name": "stdout"
        }
      ]
    },
    {
      "cell_type": "code",
      "metadata": {
        "id": "PPF8-q--VBvL"
      },
      "source": [
        ""
      ],
      "execution_count": null,
      "outputs": []
    }
  ]
}