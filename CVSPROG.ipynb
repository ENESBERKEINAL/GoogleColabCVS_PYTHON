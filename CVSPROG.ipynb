{
  "nbformat": 4,
  "nbformat_minor": 0,
  "metadata": {
    "colab": {
      "name": "CVSPROG.ipynb",
      "provenance": [],
      "collapsed_sections": [],
      "authorship_tag": "ABX9TyODXiy/E7K75OkWY4nyHQDY",
      "include_colab_link": true
    },
    "kernelspec": {
      "name": "python3",
      "display_name": "Python 3"
    }
  },
  "cells": [
    {
      "cell_type": "markdown",
      "metadata": {
        "id": "view-in-github",
        "colab_type": "text"
      },
      "source": [
        "<a href=\"https://colab.research.google.com/github/ENESBERKEINAL/GoogleColabCVS_PYTHON/blob/main/CVSPROG.ipynb\" target=\"_parent\"><img src=\"https://colab.research.google.com/assets/colab-badge.svg\" alt=\"Open In Colab\"/></a>"
      ]
    },
    {
      "cell_type": "code",
      "metadata": {
        "id": "KRErbshEE-Xs"
      },
      "source": [
        "import openpyxl\r\n",
        "#change"
      ],
      "execution_count": null,
      "outputs": []
    },
    {
      "cell_type": "code",
      "metadata": {
        "colab": {
          "base_uri": "https://localhost:8080/"
        },
        "id": "9B0D0MZwGWkn",
        "outputId": "aee2f15b-c6ec-4ae2-c41c-c995ec054bee"
      },
      "source": [
        "from google.colab import drive\n",
        "drive.mount('/gdrive')"
      ],
      "execution_count": null,
      "outputs": [
        {
          "output_type": "stream",
          "text": [
            "Mounted at /gdrive\n"
          ],
          "name": "stdout"
        }
      ]
    },
    {
      "cell_type": "code",
      "metadata": {
        "colab": {
          "base_uri": "https://localhost:8080/"
        },
        "id": "ti9fjIB0Gmje",
        "outputId": "59029059-42ca-41d7-88e6-f5336d47d42c"
      },
      "source": [
        "from random import random\n",
        "import csv\n",
        "with open('/gdrive/MyDrive/sublist.csv') as csv_file:\n",
        "    csv_reader = csv.reader(csv_file, delimiter=',')\n",
        "    line_count = 0\n",
        "    for row in csv_reader:\n",
        "        if line_count == 0:\n",
        "            print(f'Column names are {\", \".join(row)}')\n",
        "            line_count += 1\n",
        "        else:\n",
        "            print(\"\\n\")\n",
        "            for k in range(0,7):\n",
        "              print(row[k], end=\" \")\n",
        "            line_count += 1\n",
        "    \n",
        "    print(f'\\n Processed {line_count} lines.')"
      ],
      "execution_count": null,
      "outputs": [
        {
          "output_type": "stream",
          "text": [
            "Column names are Username, Subscribe Date, Current Tier, Tenure, Streak, Sub Type, Founder\n",
            "\n",
            "\n",
            "smellnes 2019-07-16T13:09:24Z Tier 3 17 17 recurring false \n",
            "\n",
            "hroogeiirr 2020-11-19T16:45:13Z Tier 1 2 1 prime true \n",
            "\n",
            "afsdasgsfcgdvsvanydjjajcu 2020-11-21T11:06:14Z Tier 1 6 4 prime true \n",
            "\n",
            "bandebi 2020-11-17T20:22:14Z Tier 1 3 3 prime true \n",
            " Processed 5 lines.\n"
          ],
          "name": "stdout"
        }
      ]
    },
    {
      "cell_type": "code",
      "metadata": {
        "colab": {
          "base_uri": "https://localhost:8080/"
        },
        "id": "b_irpQTAL0S9",
        "outputId": "f55c92d0-32d9-4f6f-a4d7-9694ca56782f"
      },
      "source": [
        "import pandas as pd\n",
        "df = pd.read_csv('/gdrive/MyDrive/sublist.csv', index_col='Username')\n",
        "print(df)"
      ],
      "execution_count": null,
      "outputs": [
        {
          "output_type": "stream",
          "text": [
            "                                 Subscribe Date  ... Founder\n",
            "Username                                         ...        \n",
            "smellnes                   2019-07-16T13:09:24Z  ...   False\n",
            "hroogeiirr                 2020-11-19T16:45:13Z  ...    True\n",
            "afsdasgsfcgdvsvanydjjajcu  2020-11-21T11:06:14Z  ...    True\n",
            "bandebi                    2020-11-17T20:22:14Z  ...    True\n",
            "\n",
            "[4 rows x 6 columns]\n"
          ],
          "name": "stdout"
        }
      ]
    },
    {
      "cell_type": "code",
      "metadata": {
        "colab": {
          "base_uri": "https://localhost:8080/",
          "height": 111
        },
        "id": "T5JiaSk0M-Xz",
        "outputId": "bc6f89e0-e273-4617-8b53-df385d42e6da"
      },
      "source": [
        "df.sample()\n",
        "#Tenure abone süresi kaç aylık olduğu"
      ],
      "execution_count": null,
      "outputs": [
        {
          "output_type": "execute_result",
          "data": {
            "text/html": [
              "<div>\n",
              "<style scoped>\n",
              "    .dataframe tbody tr th:only-of-type {\n",
              "        vertical-align: middle;\n",
              "    }\n",
              "\n",
              "    .dataframe tbody tr th {\n",
              "        vertical-align: top;\n",
              "    }\n",
              "\n",
              "    .dataframe thead th {\n",
              "        text-align: right;\n",
              "    }\n",
              "</style>\n",
              "<table border=\"1\" class=\"dataframe\">\n",
              "  <thead>\n",
              "    <tr style=\"text-align: right;\">\n",
              "      <th></th>\n",
              "      <th>Subscribe Date</th>\n",
              "      <th>Current Tier</th>\n",
              "      <th>Tenure</th>\n",
              "      <th>Streak</th>\n",
              "      <th>Sub Type</th>\n",
              "      <th>Founder</th>\n",
              "    </tr>\n",
              "    <tr>\n",
              "      <th>Username</th>\n",
              "      <th></th>\n",
              "      <th></th>\n",
              "      <th></th>\n",
              "      <th></th>\n",
              "      <th></th>\n",
              "      <th></th>\n",
              "    </tr>\n",
              "  </thead>\n",
              "  <tbody>\n",
              "    <tr>\n",
              "      <th>afsdasgsfcgdvsvanydjjajcu</th>\n",
              "      <td>2020-11-21T11:06:14Z</td>\n",
              "      <td>Tier 1</td>\n",
              "      <td>6</td>\n",
              "      <td>4</td>\n",
              "      <td>prime</td>\n",
              "      <td>True</td>\n",
              "    </tr>\n",
              "  </tbody>\n",
              "</table>\n",
              "</div>"
            ],
            "text/plain": [
              "                                 Subscribe Date Current Tier  ...  Sub Type  Founder\n",
              "Username                                                      ...                   \n",
              "afsdasgsfcgdvsvanydjjajcu  2020-11-21T11:06:14Z       Tier 1  ...     prime     True\n",
              "\n",
              "[1 rows x 6 columns]"
            ]
          },
          "metadata": {
            "tags": []
          },
          "execution_count": 5
        }
      ]
    },
    {
      "cell_type": "markdown",
      "metadata": {
        "id": "AQKx0fEoRMBB"
      },
      "source": [
        "df = pd.read_excel('/gdrive/MyDrive/sublist.csv') # can also index sheet by name or fetch all sheets\n",
        "mylist = df['column name'].tolist()"
      ]
    },
    {
      "cell_type": "code",
      "metadata": {
        "colab": {
          "base_uri": "https://localhost:8080/",
          "height": 180
        },
        "id": "W5pWyW623pIm",
        "outputId": "d22a945d-379a-4c30-9c17-c1f4bee1584f"
      },
      "source": [
        "df['Tenure']\r\n",
        "df[ df.iloc[:,2]>= 2 ]"
      ],
      "execution_count": 1,
      "outputs": [
        {
          "output_type": "error",
          "ename": "NameError",
          "evalue": "ignored",
          "traceback": [
            "\u001b[0;31m---------------------------------------------------------------------------\u001b[0m",
            "\u001b[0;31mNameError\u001b[0m                                 Traceback (most recent call last)",
            "\u001b[0;32m<ipython-input-1-4e2736a873c0>\u001b[0m in \u001b[0;36m<module>\u001b[0;34m()\u001b[0m\n\u001b[0;32m----> 1\u001b[0;31m \u001b[0mdf\u001b[0m\u001b[0;34m[\u001b[0m\u001b[0;34m'Tenure'\u001b[0m\u001b[0;34m]\u001b[0m\u001b[0;34m\u001b[0m\u001b[0;34m\u001b[0m\u001b[0m\n\u001b[0m\u001b[1;32m      2\u001b[0m \u001b[0mdf\u001b[0m\u001b[0;34m[\u001b[0m \u001b[0mdf\u001b[0m\u001b[0;34m.\u001b[0m\u001b[0miloc\u001b[0m\u001b[0;34m[\u001b[0m\u001b[0;34m:\u001b[0m\u001b[0;34m,\u001b[0m\u001b[0;36m2\u001b[0m\u001b[0;34m]\u001b[0m\u001b[0;34m>=\u001b[0m \u001b[0;36m2\u001b[0m \u001b[0;34m]\u001b[0m\u001b[0;34m\u001b[0m\u001b[0;34m\u001b[0m\u001b[0m\n",
            "\u001b[0;31mNameError\u001b[0m: name 'df' is not defined"
          ]
        }
      ]
    },
    {
      "cell_type": "code",
      "metadata": {
        "colab": {
          "base_uri": "https://localhost:8080/"
        },
        "id": "L0FYktfAAv0B",
        "outputId": "45fd20df-71b9-44e9-8628-843788c6f137"
      },
      "source": [
        "df.columns"
      ],
      "execution_count": null,
      "outputs": [
        {
          "output_type": "execute_result",
          "data": {
            "text/plain": [
              "Index(['Subscribe Date', 'Current Tier', 'Tenure', 'Streak', 'Sub Type',\n",
              "       'Founder'],\n",
              "      dtype='object')"
            ]
          },
          "metadata": {
            "tags": []
          },
          "execution_count": 40
        }
      ]
    },
    {
      "cell_type": "code",
      "metadata": {
        "id": "Udz9nopEBaaG"
      },
      "source": [
        "df = df.rename(columns={'Current Tier': 'Current_Tier'})"
      ],
      "execution_count": null,
      "outputs": []
    },
    {
      "cell_type": "code",
      "metadata": {
        "id": "eDRWFACN_Y-0"
      },
      "source": [
        "dk=df.loc[(df.Tenure>=3)]"
      ],
      "execution_count": null,
      "outputs": []
    },
    {
      "cell_type": "code",
      "metadata": {
        "colab": {
          "base_uri": "https://localhost:8080/"
        },
        "id": "YZxftLq2SqLI",
        "outputId": "b668e5db-cc7e-4ea4-da1f-281603af1cba"
      },
      "source": [
        "from csv import reader\n",
        "# read csv file as a list of lists\n",
        "with open('/gdrive/MyDrive/sublist.csv', 'r') as read_obj:\n",
        "    # pass the file object to reader() to get the reader object\n",
        "    csv_reader = reader(read_obj)\n",
        "    # Pass reader object to list() to get a list of lists\n",
        "    list_of_rows = list(csv_reader)\n",
        "    print(list_of_rows)"
      ],
      "execution_count": null,
      "outputs": [
        {
          "output_type": "stream",
          "text": [
            "[['Username', 'Subscribe Date', 'Current Tier', 'Tenure', 'Streak', 'Sub Type', 'Founder'], ['smellnes', '2019-07-16T13:09:24Z', 'Tier 3', '17', '17', 'recurring', 'false'], ['hroogeiirr', '2020-11-19T16:45:13Z', 'Tier 1', '2', '1', 'prime', 'true'], ['afsdasgsfcgdvsvanydjjajcu', '2020-11-21T11:06:14Z', 'Tier 1', '6', '4', 'prime', 'true'], ['bandebi', '2020-11-17T20:22:14Z', 'Tier 1', '3', '3', 'prime', 'true']]\n"
          ],
          "name": "stdout"
        }
      ]
    },
    {
      "cell_type": "code",
      "metadata": {
        "colab": {
          "base_uri": "https://localhost:8080/",
          "height": 111
        },
        "id": "-ZJ9AxT6CR2i",
        "outputId": "1fc0a5d9-edf8-4406-eb55-becb4f66629c"
      },
      "source": [
        "dk.sample()"
      ],
      "execution_count": null,
      "outputs": [
        {
          "output_type": "execute_result",
          "data": {
            "text/html": [
              "<div>\n",
              "<style scoped>\n",
              "    .dataframe tbody tr th:only-of-type {\n",
              "        vertical-align: middle;\n",
              "    }\n",
              "\n",
              "    .dataframe tbody tr th {\n",
              "        vertical-align: top;\n",
              "    }\n",
              "\n",
              "    .dataframe thead th {\n",
              "        text-align: right;\n",
              "    }\n",
              "</style>\n",
              "<table border=\"1\" class=\"dataframe\">\n",
              "  <thead>\n",
              "    <tr style=\"text-align: right;\">\n",
              "      <th></th>\n",
              "      <th>Subscribe Date</th>\n",
              "      <th>Current_Tier</th>\n",
              "      <th>Tenure</th>\n",
              "      <th>Streak</th>\n",
              "      <th>Sub Type</th>\n",
              "      <th>Founder</th>\n",
              "    </tr>\n",
              "    <tr>\n",
              "      <th>Username</th>\n",
              "      <th></th>\n",
              "      <th></th>\n",
              "      <th></th>\n",
              "      <th></th>\n",
              "      <th></th>\n",
              "      <th></th>\n",
              "    </tr>\n",
              "  </thead>\n",
              "  <tbody>\n",
              "    <tr>\n",
              "      <th>smellnes</th>\n",
              "      <td>2019-07-16T13:09:24Z</td>\n",
              "      <td>Tier 3</td>\n",
              "      <td>17</td>\n",
              "      <td>17</td>\n",
              "      <td>recurring</td>\n",
              "      <td>False</td>\n",
              "    </tr>\n",
              "  </tbody>\n",
              "</table>\n",
              "</div>"
            ],
            "text/plain": [
              "                Subscribe Date Current_Tier  Tenure  Streak   Sub Type  Founder\n",
              "Username                                                                       \n",
              "smellnes  2019-07-16T13:09:24Z       Tier 3      17      17  recurring    False"
            ]
          },
          "metadata": {
            "tags": []
          },
          "execution_count": 60
        }
      ]
    },
    {
      "cell_type": "code",
      "metadata": {
        "colab": {
          "base_uri": "https://localhost:8080/",
          "height": 350
        },
        "id": "rtfhOUVaRoQ6",
        "outputId": "96256b52-7d4c-4253-a5ae-8a5427fc33bc"
      },
      "source": [
        "\n",
        "from pandas import DataFrame \n",
        "  \n",
        "\n",
        "  \n",
        "df = DataFrame('/gdrive/MyDrive/sublist.csv', columns = ['Username', 'Tenure']) \n",
        "  \n",
        "\n",
        "print(\"Original data frame:\\n\") \n",
        "print(df) \n",
        "  \n",
        "# Selecting the product of Price greater  \n",
        "# than or equal to 25000 \n",
        "select_prod = df.loc[df['Tenure'] >= 1] \n",
        "  \n",
        "print(\"\\n\") \n",
        "  \n",
        "# Print selected rows based on the condition \n",
        "print(\"Selecting rows:\\n\") \n",
        "print (select_prod) "
      ],
      "execution_count": null,
      "outputs": [
        {
          "output_type": "error",
          "ename": "ValueError",
          "evalue": "ignored",
          "traceback": [
            "\u001b[0;31m---------------------------------------------------------------------------\u001b[0m",
            "\u001b[0;31mValueError\u001b[0m                                Traceback (most recent call last)",
            "\u001b[0;32m<ipython-input-41-dd421257f3eb>\u001b[0m in \u001b[0;36m<module>\u001b[0;34m()\u001b[0m\n\u001b[1;32m      4\u001b[0m \u001b[0;34m\u001b[0m\u001b[0m\n\u001b[1;32m      5\u001b[0m \u001b[0;34m\u001b[0m\u001b[0m\n\u001b[0;32m----> 6\u001b[0;31m \u001b[0mdf\u001b[0m \u001b[0;34m=\u001b[0m \u001b[0mDataFrame\u001b[0m\u001b[0;34m(\u001b[0m\u001b[0;34m'/gdrive/MyDrive/sublist.csv'\u001b[0m\u001b[0;34m,\u001b[0m \u001b[0mcolumns\u001b[0m \u001b[0;34m=\u001b[0m \u001b[0;34m[\u001b[0m\u001b[0;34m'Username'\u001b[0m\u001b[0;34m,\u001b[0m \u001b[0;34m'Tenure'\u001b[0m\u001b[0;34m]\u001b[0m\u001b[0;34m)\u001b[0m\u001b[0;34m\u001b[0m\u001b[0;34m\u001b[0m\u001b[0m\n\u001b[0m\u001b[1;32m      7\u001b[0m \u001b[0;34m\u001b[0m\u001b[0m\n\u001b[1;32m      8\u001b[0m \u001b[0;34m\u001b[0m\u001b[0m\n",
            "\u001b[0;32m/usr/local/lib/python3.6/dist-packages/pandas/core/frame.py\u001b[0m in \u001b[0;36m__init__\u001b[0;34m(self, data, index, columns, dtype, copy)\u001b[0m\n\u001b[1;32m    527\u001b[0m         \u001b[0;32melse\u001b[0m\u001b[0;34m:\u001b[0m\u001b[0;34m\u001b[0m\u001b[0;34m\u001b[0m\u001b[0m\n\u001b[1;32m    528\u001b[0m             \u001b[0;32mif\u001b[0m \u001b[0mindex\u001b[0m \u001b[0;32mis\u001b[0m \u001b[0;32mNone\u001b[0m \u001b[0;32mor\u001b[0m \u001b[0mcolumns\u001b[0m \u001b[0;32mis\u001b[0m \u001b[0;32mNone\u001b[0m\u001b[0;34m:\u001b[0m\u001b[0;34m\u001b[0m\u001b[0;34m\u001b[0m\u001b[0m\n\u001b[0;32m--> 529\u001b[0;31m                 \u001b[0;32mraise\u001b[0m \u001b[0mValueError\u001b[0m\u001b[0;34m(\u001b[0m\u001b[0;34m\"DataFrame constructor not properly called!\"\u001b[0m\u001b[0;34m)\u001b[0m\u001b[0;34m\u001b[0m\u001b[0;34m\u001b[0m\u001b[0m\n\u001b[0m\u001b[1;32m    530\u001b[0m \u001b[0;34m\u001b[0m\u001b[0m\n\u001b[1;32m    531\u001b[0m             \u001b[0;32mif\u001b[0m \u001b[0;32mnot\u001b[0m \u001b[0mdtype\u001b[0m\u001b[0;34m:\u001b[0m\u001b[0;34m\u001b[0m\u001b[0;34m\u001b[0m\u001b[0m\n",
            "\u001b[0;31mValueError\u001b[0m: DataFrame constructor not properly called!"
          ]
        }
      ]
    },
    {
      "cell_type": "code",
      "metadata": {
        "id": "PPF8-q--VBvL"
      },
      "source": [
        ""
      ],
      "execution_count": null,
      "outputs": []
    }
  ]
}